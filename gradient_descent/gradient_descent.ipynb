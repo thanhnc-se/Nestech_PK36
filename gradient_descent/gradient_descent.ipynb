{
 "cells": [
  {
   "cell_type": "code",
   "execution_count": 1,
   "metadata": {},
   "outputs": [],
   "source": [
    "import math\n",
    "import numpy as np\n",
    "import matplotlib.pyplot as plt\n",
    "from matplotlib.animation import FuncAnimation\n",
    "\n"
   ]
  },
  {
   "cell_type": "code",
   "execution_count": 2,
   "metadata": {},
   "outputs": [],
   "source": [
    "def cost(x):\n",
    "    # Tính giá trị hàm số\n",
    "    return x**2 + 5 * np.sin(x)\n",
    "\n",
    "\n",
    "def grad(x):\n",
    "    # Tính đạo hàm\n",
    "    return 2 * x + 5 * np.cos(x)"
   ]
  },
  {
   "cell_type": "code",
   "execution_count": 3,
   "metadata": {},
   "outputs": [],
   "source": [
    "def gd(x_init, eta):\n",
    "    # x_init: Là giá trị ban đầu của biến x, điểm bắt đầu của quá trình tối ưu hóa.\n",
    "    # eta:  Là learning rate, tỷ lệ giữa bước di chuyển và độ dốc của hàm số.\n",
    "    x = [x_init]\n",
    "\n",
    "    for it in range(100):\n",
    "        x_new = x[-1] - eta * grad(x[-1])\n",
    "        # x[-1] là giá trị hiện tại của x, là điểm mà thuật toán đang xét trong quá trình lặp\n",
    "        # grad(x[-1]) là độ dốc của hàm số tại điểm x[-1], Nếu độ dốc là dương, tức là hàm số đang tăng, và ngược lại nếu là âm.\n",
    "        if abs(grad(x_new)) < 1e-3:\n",
    "            break\n",
    "        x.append(x_new)\n",
    "    return x, it"
   ]
  },
  {
   "cell_type": "code",
   "execution_count": 4,
   "metadata": {},
   "outputs": [
    {
     "name": "stdout",
     "output_type": "stream",
     "text": [
      "Solution x1 = -1.1106667365268623, cost = -3.2463941936103735, obtained after 11 iterations\n",
      "Solution x2 = -1.1103410483948122, cost = -3.246394179661889, obtained after 29 iterations\n"
     ]
    }
   ],
   "source": [
    "x1, it1 = gd(-5, .1)\n",
    "x2, it2 = gd(5, .1)\n",
    "print(\n",
    "    f\"Solution x1 = {x1[-1]}, cost = {cost(x1[-1])}, obtained after {it1} iterations\"\n",
    ")\n",
    "print(\n",
    "    f\"Solution x2 = {x2[-1]}, cost = {cost(x2[-1])}, obtained after {it2} iterations\"\n",
    ")"
   ]
  },
  {
   "cell_type": "markdown",
   "metadata": {},
   "source": [
    "### Điểm khởi tạo khác nhau\n",
    "![](https://machinelearningcoban.com/assets/GD/1dimg_5_0.1_-5.gif)\n",
    "![](https://machinelearningcoban.com/assets/GD/1dimg_5_0.1_5.gif)"
   ]
  },
  {
   "cell_type": "code",
   "execution_count": 5,
   "metadata": {},
   "outputs": [
    {
     "name": "stdout",
     "output_type": "stream",
     "text": [
      "Solution x1 = -1.1179899434851557, cost = -3.246212876651788, obtained after 99 iterations\n",
      "Solution x2 = -0.06306072259364259, cost = -0.31111802418057605, obtained after 99 iterations\n"
     ]
    }
   ],
   "source": [
    "(x3, it3) = gd(-5, .01)\n",
    "(x4, it4) = gd(5, .5)\n",
    "print(\n",
    "    f\"Solution x1 = {x3[-1]}, cost = {cost(x3[-1])}, obtained after {it3} iterations\"\n",
    ")\n",
    "print(\n",
    "    f\"Solution x2 = {x4[-1]}, cost = {cost(x4[-1])}, obtained after {it4} iterations\"\n",
    ")"
   ]
  },
  {
   "cell_type": "markdown",
   "metadata": {},
   "source": [
    "### Learning rate khác nhau\n",
    "![](https://machinelearningcoban.com/assets/GD/1dimg_5_0.01_-5.gif)\n",
    "![](https://machinelearningcoban.com/assets/GD/1dimg_5_0.5_-5.gif)"
   ]
  }
 ],
 "metadata": {
  "kernelspec": {
   "display_name": "Python 3",
   "language": "python",
   "name": "python3"
  },
  "language_info": {
   "codemirror_mode": {
    "name": "ipython",
    "version": 3
   },
   "file_extension": ".py",
   "mimetype": "text/x-python",
   "name": "python",
   "nbconvert_exporter": "python",
   "pygments_lexer": "ipython3",
   "version": "3.12.3"
  }
 },
 "nbformat": 4,
 "nbformat_minor": 2
}
