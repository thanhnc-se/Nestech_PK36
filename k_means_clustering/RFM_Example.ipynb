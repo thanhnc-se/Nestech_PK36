{
 "cells": [
  {
   "cell_type": "code",
   "execution_count": 55,
   "metadata": {},
   "outputs": [],
   "source": [
    "import pandas as pd\n",
    "import numpy as np\n",
    "import matplotlib.pyplot as plt\n",
    "from sklearn.cluster import KMeans"
   ]
  },
  {
   "cell_type": "code",
   "execution_count": 56,
   "metadata": {},
   "outputs": [],
   "source": [
    "df = pd.read_csv(\"./data_rfm.csv\")\n",
    "df.drop(columns='Unnamed: 0',inplace=True)"
   ]
  },
  {
   "cell_type": "code",
   "execution_count": 57,
   "metadata": {},
   "outputs": [
    {
     "name": "stdout",
     "output_type": "stream",
     "text": [
      "<class 'pandas.core.frame.DataFrame'>\n",
      "RangeIndex: 541909 entries, 0 to 541908\n",
      "Data columns (total 8 columns):\n",
      " #   Column       Non-Null Count   Dtype  \n",
      "---  ------       --------------   -----  \n",
      " 0   InvoiceNo    541909 non-null  object \n",
      " 1   StockCode    541909 non-null  object \n",
      " 2   Description  540455 non-null  object \n",
      " 3   Quantity     541909 non-null  int64  \n",
      " 4   InvoiceDate  541909 non-null  object \n",
      " 5   UnitPrice    541909 non-null  float64\n",
      " 6   CustomerID   406829 non-null  float64\n",
      " 7   Country      541909 non-null  object \n",
      "dtypes: float64(2), int64(1), object(5)\n",
      "memory usage: 33.1+ MB\n"
     ]
    }
   ],
   "source": [
    "df.info()"
   ]
  },
  {
   "cell_type": "code",
   "execution_count": 58,
   "metadata": {},
   "outputs": [
    {
     "data": {
      "text/plain": [
       "InvoiceNo      10000\n",
       "StockCode      10000\n",
       "Description    10000\n",
       "Quantity       10000\n",
       "InvoiceDate    10000\n",
       "UnitPrice      10000\n",
       "CustomerID     10000\n",
       "Country        10000\n",
       "dtype: int64"
      ]
     },
     "execution_count": 58,
     "metadata": {},
     "output_type": "execute_result"
    }
   ],
   "source": [
    "df_not_na = df[df['CustomerID'].notna()]\n",
    "df_not_na = df_not_na.sample(10000,random_state=0)\n",
    "df_not_na.count()"
   ]
  },
  {
   "cell_type": "markdown",
   "metadata": {},
   "source": [
    "Tính toán RFM"
   ]
  },
  {
   "cell_type": "markdown",
   "metadata": {},
   "source": [
    "Tính R - Recency"
   ]
  },
  {
   "cell_type": "code",
   "execution_count": 59,
   "metadata": {},
   "outputs": [
    {
     "data": {
      "text/plain": [
       "InvoiceNo       object\n",
       "StockCode       object\n",
       "Description     object\n",
       "Quantity         int64\n",
       "InvoiceDate     object\n",
       "UnitPrice      float64\n",
       "CustomerID     float64\n",
       "Country         object\n",
       "dtype: object"
      ]
     },
     "execution_count": 59,
     "metadata": {},
     "output_type": "execute_result"
    }
   ],
   "source": [
    "df_not_na.dtypes"
   ]
  },
  {
   "cell_type": "code",
   "execution_count": 60,
   "metadata": {},
   "outputs": [],
   "source": [
    "df_not_na['InvoiceDate'] = pd.to_datetime(df_not_na['InvoiceDate'])"
   ]
  },
  {
   "cell_type": "code",
   "execution_count": 61,
   "metadata": {},
   "outputs": [
    {
     "data": {
      "text/html": [
       "<div>\n",
       "<style scoped>\n",
       "    .dataframe tbody tr th:only-of-type {\n",
       "        vertical-align: middle;\n",
       "    }\n",
       "\n",
       "    .dataframe tbody tr th {\n",
       "        vertical-align: top;\n",
       "    }\n",
       "\n",
       "    .dataframe thead th {\n",
       "        text-align: right;\n",
       "    }\n",
       "</style>\n",
       "<table border=\"1\" class=\"dataframe\">\n",
       "  <thead>\n",
       "    <tr style=\"text-align: right;\">\n",
       "      <th></th>\n",
       "      <th>InvoiceNo</th>\n",
       "      <th>StockCode</th>\n",
       "      <th>Description</th>\n",
       "      <th>Quantity</th>\n",
       "      <th>InvoiceDate</th>\n",
       "      <th>UnitPrice</th>\n",
       "      <th>CustomerID</th>\n",
       "      <th>Country</th>\n",
       "    </tr>\n",
       "  </thead>\n",
       "  <tbody>\n",
       "    <tr>\n",
       "      <th>209444</th>\n",
       "      <td>555240</td>\n",
       "      <td>20727</td>\n",
       "      <td>LUNCH BAG  BLACK SKULL.</td>\n",
       "      <td>3</td>\n",
       "      <td>2011-06-01 13:07:00</td>\n",
       "      <td>1.65</td>\n",
       "      <td>15039.0</td>\n",
       "      <td>United Kingdom</td>\n",
       "    </tr>\n",
       "    <tr>\n",
       "      <th>389683</th>\n",
       "      <td>570488</td>\n",
       "      <td>21739</td>\n",
       "      <td>COSY SLIPPER SHOES SMALL GREEN</td>\n",
       "      <td>2</td>\n",
       "      <td>2011-10-10 17:12:00</td>\n",
       "      <td>2.46</td>\n",
       "      <td>14096.0</td>\n",
       "      <td>United Kingdom</td>\n",
       "    </tr>\n",
       "    <tr>\n",
       "      <th>184515</th>\n",
       "      <td>552694</td>\n",
       "      <td>22938</td>\n",
       "      <td>CUPCAKE LACE PAPER SET 6</td>\n",
       "      <td>12</td>\n",
       "      <td>2011-05-10 15:25:00</td>\n",
       "      <td>1.95</td>\n",
       "      <td>12749.0</td>\n",
       "      <td>United Kingdom</td>\n",
       "    </tr>\n",
       "    <tr>\n",
       "      <th>98089</th>\n",
       "      <td>544667</td>\n",
       "      <td>22896</td>\n",
       "      <td>PEG BAG APPLES DESIGN</td>\n",
       "      <td>50</td>\n",
       "      <td>2011-02-22 15:10:00</td>\n",
       "      <td>2.10</td>\n",
       "      <td>17511.0</td>\n",
       "      <td>United Kingdom</td>\n",
       "    </tr>\n",
       "    <tr>\n",
       "      <th>268149</th>\n",
       "      <td>560392</td>\n",
       "      <td>15034</td>\n",
       "      <td>PAPER POCKET TRAVELING FAN</td>\n",
       "      <td>96</td>\n",
       "      <td>2011-07-18 13:30:00</td>\n",
       "      <td>0.14</td>\n",
       "      <td>13911.0</td>\n",
       "      <td>United Kingdom</td>\n",
       "    </tr>\n",
       "  </tbody>\n",
       "</table>\n",
       "</div>"
      ],
      "text/plain": [
       "       InvoiceNo StockCode                     Description  Quantity  \\\n",
       "209444    555240     20727         LUNCH BAG  BLACK SKULL.         3   \n",
       "389683    570488     21739  COSY SLIPPER SHOES SMALL GREEN         2   \n",
       "184515    552694     22938        CUPCAKE LACE PAPER SET 6        12   \n",
       "98089     544667     22896           PEG BAG APPLES DESIGN        50   \n",
       "268149    560392     15034     PAPER POCKET TRAVELING FAN         96   \n",
       "\n",
       "               InvoiceDate  UnitPrice  CustomerID         Country  \n",
       "209444 2011-06-01 13:07:00       1.65     15039.0  United Kingdom  \n",
       "389683 2011-10-10 17:12:00       2.46     14096.0  United Kingdom  \n",
       "184515 2011-05-10 15:25:00       1.95     12749.0  United Kingdom  \n",
       "98089  2011-02-22 15:10:00       2.10     17511.0  United Kingdom  \n",
       "268149 2011-07-18 13:30:00       0.14     13911.0  United Kingdom  "
      ]
     },
     "execution_count": 61,
     "metadata": {},
     "output_type": "execute_result"
    }
   ],
   "source": [
    "df_not_na.head()"
   ]
  },
  {
   "cell_type": "markdown",
   "metadata": {},
   "source": [
    "Lấy ngày lớn nhất trong InvoiceDate"
   ]
  },
  {
   "cell_type": "code",
   "execution_count": 62,
   "metadata": {},
   "outputs": [],
   "source": [
    "import datetime\n",
    "current_date =  df_not_na['InvoiceDate'].max() + datetime.timedelta(days=1)"
   ]
  },
  {
   "cell_type": "markdown",
   "metadata": {},
   "source": [
    "Tính M - Monetary"
   ]
  },
  {
   "cell_type": "code",
   "execution_count": 63,
   "metadata": {},
   "outputs": [],
   "source": [
    "df_not_na['TotalPay'] = df_not_na['Quantity']*df_not_na['UnitPrice']"
   ]
  },
  {
   "cell_type": "code",
   "execution_count": 64,
   "metadata": {},
   "outputs": [
    {
     "data": {
      "text/html": [
       "<div>\n",
       "<style scoped>\n",
       "    .dataframe tbody tr th:only-of-type {\n",
       "        vertical-align: middle;\n",
       "    }\n",
       "\n",
       "    .dataframe tbody tr th {\n",
       "        vertical-align: top;\n",
       "    }\n",
       "\n",
       "    .dataframe thead th {\n",
       "        text-align: right;\n",
       "    }\n",
       "</style>\n",
       "<table border=\"1\" class=\"dataframe\">\n",
       "  <thead>\n",
       "    <tr style=\"text-align: right;\">\n",
       "      <th></th>\n",
       "      <th>InvoiceNo</th>\n",
       "      <th>StockCode</th>\n",
       "      <th>Description</th>\n",
       "      <th>Quantity</th>\n",
       "      <th>InvoiceDate</th>\n",
       "      <th>UnitPrice</th>\n",
       "      <th>CustomerID</th>\n",
       "      <th>Country</th>\n",
       "      <th>TotalPay</th>\n",
       "    </tr>\n",
       "  </thead>\n",
       "  <tbody>\n",
       "    <tr>\n",
       "      <th>209444</th>\n",
       "      <td>555240</td>\n",
       "      <td>20727</td>\n",
       "      <td>LUNCH BAG  BLACK SKULL.</td>\n",
       "      <td>3</td>\n",
       "      <td>2011-06-01 13:07:00</td>\n",
       "      <td>1.65</td>\n",
       "      <td>15039.0</td>\n",
       "      <td>United Kingdom</td>\n",
       "      <td>4.95</td>\n",
       "    </tr>\n",
       "    <tr>\n",
       "      <th>389683</th>\n",
       "      <td>570488</td>\n",
       "      <td>21739</td>\n",
       "      <td>COSY SLIPPER SHOES SMALL GREEN</td>\n",
       "      <td>2</td>\n",
       "      <td>2011-10-10 17:12:00</td>\n",
       "      <td>2.46</td>\n",
       "      <td>14096.0</td>\n",
       "      <td>United Kingdom</td>\n",
       "      <td>4.92</td>\n",
       "    </tr>\n",
       "    <tr>\n",
       "      <th>184515</th>\n",
       "      <td>552694</td>\n",
       "      <td>22938</td>\n",
       "      <td>CUPCAKE LACE PAPER SET 6</td>\n",
       "      <td>12</td>\n",
       "      <td>2011-05-10 15:25:00</td>\n",
       "      <td>1.95</td>\n",
       "      <td>12749.0</td>\n",
       "      <td>United Kingdom</td>\n",
       "      <td>23.40</td>\n",
       "    </tr>\n",
       "    <tr>\n",
       "      <th>98089</th>\n",
       "      <td>544667</td>\n",
       "      <td>22896</td>\n",
       "      <td>PEG BAG APPLES DESIGN</td>\n",
       "      <td>50</td>\n",
       "      <td>2011-02-22 15:10:00</td>\n",
       "      <td>2.10</td>\n",
       "      <td>17511.0</td>\n",
       "      <td>United Kingdom</td>\n",
       "      <td>105.00</td>\n",
       "    </tr>\n",
       "    <tr>\n",
       "      <th>268149</th>\n",
       "      <td>560392</td>\n",
       "      <td>15034</td>\n",
       "      <td>PAPER POCKET TRAVELING FAN</td>\n",
       "      <td>96</td>\n",
       "      <td>2011-07-18 13:30:00</td>\n",
       "      <td>0.14</td>\n",
       "      <td>13911.0</td>\n",
       "      <td>United Kingdom</td>\n",
       "      <td>13.44</td>\n",
       "    </tr>\n",
       "  </tbody>\n",
       "</table>\n",
       "</div>"
      ],
      "text/plain": [
       "       InvoiceNo StockCode                     Description  Quantity  \\\n",
       "209444    555240     20727         LUNCH BAG  BLACK SKULL.         3   \n",
       "389683    570488     21739  COSY SLIPPER SHOES SMALL GREEN         2   \n",
       "184515    552694     22938        CUPCAKE LACE PAPER SET 6        12   \n",
       "98089     544667     22896           PEG BAG APPLES DESIGN        50   \n",
       "268149    560392     15034     PAPER POCKET TRAVELING FAN         96   \n",
       "\n",
       "               InvoiceDate  UnitPrice  CustomerID         Country  TotalPay  \n",
       "209444 2011-06-01 13:07:00       1.65     15039.0  United Kingdom      4.95  \n",
       "389683 2011-10-10 17:12:00       2.46     14096.0  United Kingdom      4.92  \n",
       "184515 2011-05-10 15:25:00       1.95     12749.0  United Kingdom     23.40  \n",
       "98089  2011-02-22 15:10:00       2.10     17511.0  United Kingdom    105.00  \n",
       "268149 2011-07-18 13:30:00       0.14     13911.0  United Kingdom     13.44  "
      ]
     },
     "execution_count": 64,
     "metadata": {},
     "output_type": "execute_result"
    }
   ],
   "source": [
    "df_not_na.head()"
   ]
  },
  {
   "cell_type": "markdown",
   "metadata": {},
   "source": [
    "Tính R,F,M theo CustomerID"
   ]
  },
  {
   "cell_type": "code",
   "execution_count": 65,
   "metadata": {},
   "outputs": [],
   "source": [
    "df_customer = df_not_na.groupby(['CustomerID']).agg({\n",
    "    'InvoiceDate': lambda x: (current_date-x.max()).days,\n",
    "    'InvoiceNo':'count',\n",
    "    'TotalPay':'sum'\n",
    "})"
   ]
  },
  {
   "cell_type": "code",
   "execution_count": 66,
   "metadata": {},
   "outputs": [
    {
     "data": {
      "text/html": [
       "<div>\n",
       "<style scoped>\n",
       "    .dataframe tbody tr th:only-of-type {\n",
       "        vertical-align: middle;\n",
       "    }\n",
       "\n",
       "    .dataframe tbody tr th {\n",
       "        vertical-align: top;\n",
       "    }\n",
       "\n",
       "    .dataframe thead th {\n",
       "        text-align: right;\n",
       "    }\n",
       "</style>\n",
       "<table border=\"1\" class=\"dataframe\">\n",
       "  <thead>\n",
       "    <tr style=\"text-align: right;\">\n",
       "      <th></th>\n",
       "      <th>InvoiceDate</th>\n",
       "      <th>InvoiceNo</th>\n",
       "      <th>TotalPay</th>\n",
       "    </tr>\n",
       "    <tr>\n",
       "      <th>CustomerID</th>\n",
       "      <th></th>\n",
       "      <th></th>\n",
       "      <th></th>\n",
       "    </tr>\n",
       "  </thead>\n",
       "  <tbody>\n",
       "    <tr>\n",
       "      <th>12347.0</th>\n",
       "      <td>40</td>\n",
       "      <td>8</td>\n",
       "      <td>243.50</td>\n",
       "    </tr>\n",
       "    <tr>\n",
       "      <th>12349.0</th>\n",
       "      <td>19</td>\n",
       "      <td>2</td>\n",
       "      <td>34.80</td>\n",
       "    </tr>\n",
       "    <tr>\n",
       "      <th>12354.0</th>\n",
       "      <td>232</td>\n",
       "      <td>1</td>\n",
       "      <td>20.40</td>\n",
       "    </tr>\n",
       "    <tr>\n",
       "      <th>12355.0</th>\n",
       "      <td>214</td>\n",
       "      <td>1</td>\n",
       "      <td>19.90</td>\n",
       "    </tr>\n",
       "    <tr>\n",
       "      <th>12356.0</th>\n",
       "      <td>326</td>\n",
       "      <td>2</td>\n",
       "      <td>172.80</td>\n",
       "    </tr>\n",
       "    <tr>\n",
       "      <th>...</th>\n",
       "      <td>...</td>\n",
       "      <td>...</td>\n",
       "      <td>...</td>\n",
       "    </tr>\n",
       "    <tr>\n",
       "      <th>18270.0</th>\n",
       "      <td>240</td>\n",
       "      <td>1</td>\n",
       "      <td>-38.25</td>\n",
       "    </tr>\n",
       "    <tr>\n",
       "      <th>18272.0</th>\n",
       "      <td>46</td>\n",
       "      <td>3</td>\n",
       "      <td>50.55</td>\n",
       "    </tr>\n",
       "    <tr>\n",
       "      <th>18281.0</th>\n",
       "      <td>181</td>\n",
       "      <td>1</td>\n",
       "      <td>16.50</td>\n",
       "    </tr>\n",
       "    <tr>\n",
       "      <th>18282.0</th>\n",
       "      <td>126</td>\n",
       "      <td>1</td>\n",
       "      <td>12.75</td>\n",
       "    </tr>\n",
       "    <tr>\n",
       "      <th>18283.0</th>\n",
       "      <td>4</td>\n",
       "      <td>20</td>\n",
       "      <td>58.02</td>\n",
       "    </tr>\n",
       "  </tbody>\n",
       "</table>\n",
       "<p>2676 rows × 3 columns</p>\n",
       "</div>"
      ],
      "text/plain": [
       "            InvoiceDate  InvoiceNo  TotalPay\n",
       "CustomerID                                  \n",
       "12347.0              40          8    243.50\n",
       "12349.0              19          2     34.80\n",
       "12354.0             232          1     20.40\n",
       "12355.0             214          1     19.90\n",
       "12356.0             326          2    172.80\n",
       "...                 ...        ...       ...\n",
       "18270.0             240          1    -38.25\n",
       "18272.0              46          3     50.55\n",
       "18281.0             181          1     16.50\n",
       "18282.0             126          1     12.75\n",
       "18283.0               4         20     58.02\n",
       "\n",
       "[2676 rows x 3 columns]"
      ]
     },
     "execution_count": 66,
     "metadata": {},
     "output_type": "execute_result"
    }
   ],
   "source": [
    "df_customer"
   ]
  },
  {
   "cell_type": "code",
   "execution_count": 67,
   "metadata": {},
   "outputs": [],
   "source": [
    "df_customer.rename(columns={'InvoiceDate':'Recency','InvoiceNo':'Frequency','TotalPay':'Monetary'},inplace=True)"
   ]
  },
  {
   "cell_type": "markdown",
   "metadata": {},
   "source": [
    "Scale dữ liệu"
   ]
  },
  {
   "cell_type": "code",
   "execution_count": 68,
   "metadata": {},
   "outputs": [],
   "source": [
    "# Tien hanh scale du lieu\n",
    "\n",
    "from sklearn.preprocessing import StandardScaler\n",
    "scaler = StandardScaler()\n",
    "scaler.fit(df_customer)\n",
    "\n",
    "df_customers_t = scaler.transform(df_customer)"
   ]
  },
  {
   "cell_type": "code",
   "execution_count": 69,
   "metadata": {},
   "outputs": [
    {
     "data": {
      "text/plain": [
       "array([[-0.65954171,  0.58880779,  0.44402342],\n",
       "       [-0.8630973 , -0.23989995, -0.10728761],\n",
       "       [ 1.20153799, -0.3780179 , -0.14532728],\n",
       "       ...,\n",
       "       [ 0.7071887 , -0.3780179 , -0.15562969],\n",
       "       [ 0.17406691, -0.3780179 , -0.16553586],\n",
       "       [-1.00849415,  2.24622325, -0.04594865]])"
      ]
     },
     "execution_count": 69,
     "metadata": {},
     "output_type": "execute_result"
    }
   ],
   "source": [
    "df_customers_t"
   ]
  },
  {
   "cell_type": "markdown",
   "metadata": {},
   "source": [
    "Chọn số cụm bằng Elbow"
   ]
  },
  {
   "cell_type": "code",
   "execution_count": 70,
   "metadata": {},
   "outputs": [
    {
     "data": {
      "text/plain": [
       "Text(0, 0.5, 'SSE')"
      ]
     },
     "execution_count": 70,
     "metadata": {},
     "output_type": "execute_result"
    },
    {
     "data": {
      "image/png": "[encoded data removed]",
      "text/plain": [
       "<Figure size 640x480 with 1 Axes>"
      ]
     },
     "metadata": {},
     "output_type": "display_data"
    }
   ],
   "source": [
    "K=10\n",
    "losses = []\n",
    "for i in range(1,K+1):\n",
    "    kmeans = KMeans(n_clusters=i,random_state=0)\n",
    "    kmeans.fit(df_customer)\n",
    "    losses.append(kmeans.inertia_)\n",
    "\n",
    "plt.plot(range(1,K+1),losses,'bx-')\n",
    "plt.xticks(range(1,K+1))\n",
    "plt.xlabel(\"Số lượng cụm\")\n",
    "plt.ylabel(\"SSE\")"
   ]
  },
  {
   "cell_type": "code",
   "execution_count": 71,
   "metadata": {},
   "outputs": [
    {
     "data": {
      "text/plain": [
       "Text(0, 0.5, 'SSE')"
      ]
     },
     "execution_count": 71,
     "metadata": {},
     "output_type": "execute_result"
    },
    {
     "data": {
      "image/png": "[encoded data removed]",
      "text/plain": [
       "<Figure size 640x480 with 1 Axes>"
      ]
     },
     "metadata": {},
     "output_type": "display_data"
    }
   ],
   "source": [
    "K=10\n",
    "losses = []\n",
    "for i in range(1,K+1):\n",
    "    kmeans = KMeans(n_clusters=i,random_state=0)\n",
    "    kmeans.fit(df_customers_t)\n",
    "    losses.append(kmeans.inertia_)\n",
    "\n",
    "plt.plot(range(1,K+1),losses,'bx-')\n",
    "plt.xticks(range(1,K+1))\n",
    "plt.xlabel(\"Số lượng cụm\")\n",
    "plt.ylabel(\"SSE\")"
   ]
  },
  {
   "cell_type": "markdown",
   "metadata": {},
   "source": [
    "Thực hiện phân cụm"
   ]
  },
  {
   "cell_type": "code",
   "execution_count": 72,
   "metadata": {},
   "outputs": [],
   "source": [
    "kmeans = KMeans(n_clusters=3,random_state=0)\n",
    "kmeans.fit(df_customer)\n",
    "label_cluster = kmeans.predict(df_customer)\n"
   ]
  },
  {
   "cell_type": "code",
   "execution_count": 73,
   "metadata": {},
   "outputs": [],
   "source": [
    "kmeans_t = KMeans(n_clusters=3,random_state=0)\n",
    "kmeans_t.fit(df_customers_t)\n",
    "label_cluster_t=kmeans_t.predict(df_customers_t)"
   ]
  },
  {
   "cell_type": "code",
   "execution_count": 74,
   "metadata": {},
   "outputs": [],
   "source": [
    "df_customer['cluster'] = label_cluster"
   ]
  },
  {
   "cell_type": "code",
   "execution_count": 75,
   "metadata": {},
   "outputs": [],
   "source": [
    "df_customer['cluster_t'] = label_cluster_t"
   ]
  },
  {
   "cell_type": "code",
   "execution_count": 76,
   "metadata": {},
   "outputs": [
    {
     "data": {
      "text/html": [
       "<div>\n",
       "<style scoped>\n",
       "    .dataframe tbody tr th:only-of-type {\n",
       "        vertical-align: middle;\n",
       "    }\n",
       "\n",
       "    .dataframe tbody tr th {\n",
       "        vertical-align: top;\n",
       "    }\n",
       "\n",
       "    .dataframe thead th {\n",
       "        text-align: right;\n",
       "    }\n",
       "</style>\n",
       "<table border=\"1\" class=\"dataframe\">\n",
       "  <thead>\n",
       "    <tr style=\"text-align: right;\">\n",
       "      <th></th>\n",
       "      <th>Recency</th>\n",
       "      <th>Frequency</th>\n",
       "      <th>Monetary</th>\n",
       "      <th>cluster_t</th>\n",
       "    </tr>\n",
       "    <tr>\n",
       "      <th>cluster</th>\n",
       "      <th></th>\n",
       "      <th></th>\n",
       "      <th></th>\n",
       "      <th></th>\n",
       "    </tr>\n",
       "  </thead>\n",
       "  <tbody>\n",
       "    <tr>\n",
       "      <th>0</th>\n",
       "      <td>108.979206</td>\n",
       "      <td>3.385255</td>\n",
       "      <td>49.898465</td>\n",
       "      <td>0.582231</td>\n",
       "    </tr>\n",
       "    <tr>\n",
       "      <th>1</th>\n",
       "      <td>11.250000</td>\n",
       "      <td>52.500000</td>\n",
       "      <td>7515.072500</td>\n",
       "      <td>1.000000</td>\n",
       "    </tr>\n",
       "    <tr>\n",
       "      <th>2</th>\n",
       "      <td>30.592593</td>\n",
       "      <td>30.962963</td>\n",
       "      <td>1472.815926</td>\n",
       "      <td>0.185185</td>\n",
       "    </tr>\n",
       "  </tbody>\n",
       "</table>\n",
       "</div>"
      ],
      "text/plain": [
       "            Recency  Frequency     Monetary  cluster_t\n",
       "cluster                                               \n",
       "0        108.979206   3.385255    49.898465   0.582231\n",
       "1         11.250000  52.500000  7515.072500   1.000000\n",
       "2         30.592593  30.962963  1472.815926   0.185185"
      ]
     },
     "execution_count": 76,
     "metadata": {},
     "output_type": "execute_result"
    }
   ],
   "source": [
    "df_customer.groupby('cluster').mean()"
   ]
  },
  {
   "cell_type": "code",
   "execution_count": 77,
   "metadata": {},
   "outputs": [
    {
     "data": {
      "text/html": [
       "<div>\n",
       "<style scoped>\n",
       "    .dataframe tbody tr th:only-of-type {\n",
       "        vertical-align: middle;\n",
       "    }\n",
       "\n",
       "    .dataframe tbody tr th {\n",
       "        vertical-align: top;\n",
       "    }\n",
       "\n",
       "    .dataframe thead th {\n",
       "        text-align: right;\n",
       "    }\n",
       "</style>\n",
       "<table border=\"1\" class=\"dataframe\">\n",
       "  <thead>\n",
       "    <tr style=\"text-align: right;\">\n",
       "      <th></th>\n",
       "      <th>Recency</th>\n",
       "      <th>Frequency</th>\n",
       "      <th>Monetary</th>\n",
       "      <th>cluster</th>\n",
       "    </tr>\n",
       "    <tr>\n",
       "      <th>cluster_t</th>\n",
       "      <th></th>\n",
       "      <th></th>\n",
       "      <th></th>\n",
       "      <th></th>\n",
       "    </tr>\n",
       "  </thead>\n",
       "  <tbody>\n",
       "    <tr>\n",
       "      <th>0</th>\n",
       "      <td>50.062698</td>\n",
       "      <td>4.181770</td>\n",
       "      <td>78.123762</td>\n",
       "      <td>0.024236</td>\n",
       "    </tr>\n",
       "    <tr>\n",
       "      <th>1</th>\n",
       "      <td>7.428571</td>\n",
       "      <td>93.142857</td>\n",
       "      <td>4739.131429</td>\n",
       "      <td>1.428571</td>\n",
       "    </tr>\n",
       "    <tr>\n",
       "      <th>2</th>\n",
       "      <td>251.686122</td>\n",
       "      <td>1.830091</td>\n",
       "      <td>26.400700</td>\n",
       "      <td>0.002594</td>\n",
       "    </tr>\n",
       "  </tbody>\n",
       "</table>\n",
       "</div>"
      ],
      "text/plain": [
       "              Recency  Frequency     Monetary   cluster\n",
       "cluster_t                                              \n",
       "0           50.062698   4.181770    78.123762  0.024236\n",
       "1            7.428571  93.142857  4739.131429  1.428571\n",
       "2          251.686122   1.830091    26.400700  0.002594"
      ]
     },
     "execution_count": 77,
     "metadata": {},
     "output_type": "execute_result"
    }
   ],
   "source": [
    "df_customer.groupby('cluster_t').mean()"
   ]
  },
  {
   "cell_type": "code",
   "execution_count": 78,
   "metadata": {},
   "outputs": [
    {
     "data": {
      "text/html": [
       "<div>\n",
       "<style scoped>\n",
       "    .dataframe tbody tr th:only-of-type {\n",
       "        vertical-align: middle;\n",
       "    }\n",
       "\n",
       "    .dataframe tbody tr th {\n",
       "        vertical-align: top;\n",
       "    }\n",
       "\n",
       "    .dataframe thead th {\n",
       "        text-align: right;\n",
       "    }\n",
       "</style>\n",
       "<table border=\"1\" class=\"dataframe\">\n",
       "  <thead>\n",
       "    <tr style=\"text-align: right;\">\n",
       "      <th></th>\n",
       "      <th>Recency</th>\n",
       "      <th>Frequency</th>\n",
       "      <th>Monetary</th>\n",
       "      <th>cluster</th>\n",
       "      <th>cluster_t</th>\n",
       "    </tr>\n",
       "    <tr>\n",
       "      <th>CustomerID</th>\n",
       "      <th></th>\n",
       "      <th></th>\n",
       "      <th></th>\n",
       "      <th></th>\n",
       "      <th></th>\n",
       "    </tr>\n",
       "  </thead>\n",
       "  <tbody>\n",
       "    <tr>\n",
       "      <th>12347.0</th>\n",
       "      <td>40</td>\n",
       "      <td>8</td>\n",
       "      <td>243.50</td>\n",
       "      <td>0</td>\n",
       "      <td>0</td>\n",
       "    </tr>\n",
       "    <tr>\n",
       "      <th>12349.0</th>\n",
       "      <td>19</td>\n",
       "      <td>2</td>\n",
       "      <td>34.80</td>\n",
       "      <td>0</td>\n",
       "      <td>0</td>\n",
       "    </tr>\n",
       "    <tr>\n",
       "      <th>12354.0</th>\n",
       "      <td>232</td>\n",
       "      <td>1</td>\n",
       "      <td>20.40</td>\n",
       "      <td>0</td>\n",
       "      <td>2</td>\n",
       "    </tr>\n",
       "    <tr>\n",
       "      <th>12355.0</th>\n",
       "      <td>214</td>\n",
       "      <td>1</td>\n",
       "      <td>19.90</td>\n",
       "      <td>0</td>\n",
       "      <td>2</td>\n",
       "    </tr>\n",
       "    <tr>\n",
       "      <th>12356.0</th>\n",
       "      <td>326</td>\n",
       "      <td>2</td>\n",
       "      <td>172.80</td>\n",
       "      <td>0</td>\n",
       "      <td>2</td>\n",
       "    </tr>\n",
       "    <tr>\n",
       "      <th>...</th>\n",
       "      <td>...</td>\n",
       "      <td>...</td>\n",
       "      <td>...</td>\n",
       "      <td>...</td>\n",
       "      <td>...</td>\n",
       "    </tr>\n",
       "    <tr>\n",
       "      <th>18270.0</th>\n",
       "      <td>240</td>\n",
       "      <td>1</td>\n",
       "      <td>-38.25</td>\n",
       "      <td>0</td>\n",
       "      <td>2</td>\n",
       "    </tr>\n",
       "    <tr>\n",
       "      <th>18272.0</th>\n",
       "      <td>46</td>\n",
       "      <td>3</td>\n",
       "      <td>50.55</td>\n",
       "      <td>0</td>\n",
       "      <td>0</td>\n",
       "    </tr>\n",
       "    <tr>\n",
       "      <th>18281.0</th>\n",
       "      <td>181</td>\n",
       "      <td>1</td>\n",
       "      <td>16.50</td>\n",
       "      <td>0</td>\n",
       "      <td>2</td>\n",
       "    </tr>\n",
       "    <tr>\n",
       "      <th>18282.0</th>\n",
       "      <td>126</td>\n",
       "      <td>1</td>\n",
       "      <td>12.75</td>\n",
       "      <td>0</td>\n",
       "      <td>0</td>\n",
       "    </tr>\n",
       "    <tr>\n",
       "      <th>18283.0</th>\n",
       "      <td>4</td>\n",
       "      <td>20</td>\n",
       "      <td>58.02</td>\n",
       "      <td>0</td>\n",
       "      <td>0</td>\n",
       "    </tr>\n",
       "  </tbody>\n",
       "</table>\n",
       "<p>2676 rows × 5 columns</p>\n",
       "</div>"
      ],
      "text/plain": [
       "            Recency  Frequency  Monetary  cluster  cluster_t\n",
       "CustomerID                                                  \n",
       "12347.0          40          8    243.50        0          0\n",
       "12349.0          19          2     34.80        0          0\n",
       "12354.0         232          1     20.40        0          2\n",
       "12355.0         214          1     19.90        0          2\n",
       "12356.0         326          2    172.80        0          2\n",
       "...             ...        ...       ...      ...        ...\n",
       "18270.0         240          1    -38.25        0          2\n",
       "18272.0          46          3     50.55        0          0\n",
       "18281.0         181          1     16.50        0          2\n",
       "18282.0         126          1     12.75        0          0\n",
       "18283.0           4         20     58.02        0          0\n",
       "\n",
       "[2676 rows x 5 columns]"
      ]
     },
     "execution_count": 78,
     "metadata": {},
     "output_type": "execute_result"
    }
   ],
   "source": [
    "df_customer"
   ]
  },
  {
   "cell_type": "markdown",
   "metadata": {},
   "source": [
    "Vẽ đồ thị 3 chiều"
   ]
  },
  {
   "cell_type": "code",
   "execution_count": 79,
   "metadata": {},
   "outputs": [
    {
     "data": {
      "text/plain": [
       "<mpl_toolkits.mplot3d.art3d.Path3DCollection at 0x12bd2795790>"
      ]
     },
     "execution_count": 79,
     "metadata": {},
     "output_type": "execute_result"
    },
    {
     "data": {
      "image/png": "[encoded data removed]",
      "text/plain": [
       "<Figure size 640x480 with 1 Axes>"
      ]
     },
     "metadata": {},
     "output_type": "display_data"
    }
   ],
   "source": [
    "from mpl_toolkits import mplot3d\n",
    "fig = plt.figure()\n",
    "ax = plt.axes(projection='3d')\n",
    "ax.scatter(df_customer['Recency'],df_customer['Frequency'],df_customer['Monetary'])"
   ]
  },
  {
   "cell_type": "markdown",
   "metadata": {},
   "source": [
    "Biến đổi dữ liệu về 2 chiều"
   ]
  },
  {
   "cell_type": "code",
   "execution_count": 80,
   "metadata": {},
   "outputs": [
    {
     "data": {
      "text/plain": [
       "array([[ 38.54441  ,  10.018152 ],\n",
       "       [  3.3839808, -41.05006  ],\n",
       "       [ -4.7580113,  51.165157 ],\n",
       "       ...,\n",
       "       [-19.097324 ,  37.258465 ],\n",
       "       [-29.26932  ,  15.6179905],\n",
       "       [ 17.468315 , -39.01681  ]], dtype=float32)"
      ]
     },
     "execution_count": 80,
     "metadata": {},
     "output_type": "execute_result"
    }
   ],
   "source": [
    "from sklearn.manifold import TSNE\n",
    "\n",
    "X_tsne = TSNE(n_components=2, random_state=123).fit_transform(df_customer)\n",
    "X_tsne"
   ]
  },
  {
   "cell_type": "code",
   "execution_count": 81,
   "metadata": {},
   "outputs": [
    {
     "data": {
      "text/plain": [
       "<matplotlib.collections.PathCollection at 0x12bd2780cb0>"
      ]
     },
     "execution_count": 81,
     "metadata": {},
     "output_type": "execute_result"
    },
    {
     "data": {
      "image/png": "[encoded data removed]",
      "text/plain": [
       "<Figure size 640x480 with 1 Axes>"
      ]
     },
     "metadata": {},
     "output_type": "display_data"
    }
   ],
   "source": [
    "plt.scatter(X_tsne[:,0],X_tsne[:,1])"
   ]
  },
  {
   "cell_type": "code",
   "execution_count": null,
   "metadata": {},
   "outputs": [],
   "source": []
  }
 ],
 "metadata": {
  "kernelspec": {
   "display_name": "Python 3",
   "language": "python",
   "name": "python3"
  },
  "language_info": {
   "codemirror_mode": {
    "name": "ipython",
    "version": 3
   },
   "file_extension": ".py",
   "mimetype": "text/x-python",
   "name": "python",
   "nbconvert_exporter": "python",
   "pygments_lexer": "ipython3",
   "version": "3.12.3"
  }
 },
 "nbformat": 4,
 "nbformat_minor": 2
}
